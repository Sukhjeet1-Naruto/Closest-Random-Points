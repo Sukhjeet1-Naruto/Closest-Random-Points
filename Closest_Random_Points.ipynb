{
  "nbformat": 4,
  "nbformat_minor": 0,
  "metadata": {
    "colab": {
      "name": "Closest Random Points.ipynb",
      "provenance": [],
      "authorship_tag": "ABX9TyN2WpfVsFRpTsj4AGBkTT7q",
      "include_colab_link": true
    },
    "kernelspec": {
      "name": "python3",
      "display_name": "Python 3"
    },
    "language_info": {
      "name": "python"
    }
  },
  "cells": [
    {
      "cell_type": "markdown",
      "metadata": {
        "id": "view-in-github",
        "colab_type": "text"
      },
      "source": [
        "<a href=\"https://colab.research.google.com/github/Sukhjeet1-Naruto/Closest-Random-Points/blob/main/Closest_Random_Points.ipynb\" target=\"_parent\"><img src=\"https://colab.research.google.com/assets/colab-badge.svg\" alt=\"Open In Colab\"/></a>"
      ]
    },
    {
      "cell_type": "code",
      "execution_count": 2,
      "metadata": {
        "id": "M1190S3tKtvB"
      },
      "outputs": [],
      "source": [
        "x = [0,10,15]\n",
        "y = [0,10,20]"
      ]
    },
    {
      "cell_type": "code",
      "source": [
        "import numpy\n",
        "def closestSquaredDistance(x, y):\n",
        "    # Write your code here\n",
        "    arrX = numpy.asarray(x)\n",
        "    arrY = numpy.asarray(y)\n",
        "    length = len(x)\n",
        "    \n",
        "    resultXx = []\n",
        "    minResult = 0;\n",
        "    for i in range(length-1):\n",
        "        result = (arrX[i]-arrX[i+1])**2 + (arrY[i]-arrY[i+1])**2\n",
        "        resultXx.append(result)\n",
        "        resultXY = min(resultXx)\n",
        "\n",
        "    print(\"The distance matrix is \"+ str(resultXx))\n",
        "    return resultXY"
      ],
      "metadata": {
        "id": "ai8o8GjAK8di"
      },
      "execution_count": 16,
      "outputs": []
    },
    {
      "cell_type": "code",
      "source": [
        "print(\"Closest Distance between given points is \"+ str(closestSquaredDistance(x,y)))"
      ],
      "metadata": {
        "colab": {
          "base_uri": "https://localhost:8080/"
        },
        "id": "obAnXjPeLPtZ",
        "outputId": "418a345d-5513-470e-9d41-1888507cd074"
      },
      "execution_count": 17,
      "outputs": [
        {
          "output_type": "stream",
          "name": "stdout",
          "text": [
            "The distance matrix is [200, 125]\n",
            "Closest Distance between given points is 125\n"
          ]
        }
      ]
    }
  ]
}